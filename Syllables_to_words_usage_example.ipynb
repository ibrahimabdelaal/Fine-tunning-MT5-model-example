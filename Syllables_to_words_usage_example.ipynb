{
  "nbformat": 4,
  "nbformat_minor": 0,
  "metadata": {
    "colab": {
      "provenance": []
    },
    "kernelspec": {
      "name": "python3",
      "display_name": "Python 3"
    },
    "language_info": {
      "name": "python"
    }
  },
  "cells": [
    {
      "cell_type": "code",
      "execution_count": null,
      "metadata": {
        "id": "Wl1nfjroQbdF"
      },
      "outputs": [],
      "source": [
        "!pip install datasets transformers"
      ]
    },
    {
      "cell_type": "code",
      "source": [
        "from transformers import AutoModelForSeq2SeqLM\n",
        "from transformers import AutoTokenizer\n",
        "model = AutoModelForSeq2SeqLM.from_pretrained(\"IbrahimSalah/Arabic_Syllables_to_text_Converter_Using_MT5\")\n",
        "tokenizer = AutoTokenizer.from_pretrained(\"IbrahimSalah/Arabic_Syllables_to_text_Converter_Using_MT5\")\n"
      ],
      "metadata": {
        "id": "n_HM1ue2Qihg"
      },
      "execution_count": null,
      "outputs": []
    },
    {
      "cell_type": "code",
      "source": [
        "def pre_process_input(syllables):\n",
        "  syllables=\"|\"+syllables.replace(\" \",\"|\")+\".\"\n",
        "  return syllables"
      ],
      "metadata": {
        "id": "fImVo0J_Quvm"
      },
      "execution_count": null,
      "outputs": []
    },
    {
      "cell_type": "code",
      "source": [
        "input='بِاْ لِنْ نِسْ بَ تِ لِ لَسْ سُيْ يَ اِحْ مِمْ مِنْ طَ قَ تِشْ شَرْ قِلْ ءَوْ سَطْ'\n",
        "preprocessed_input=pre_process_input(input)"
      ],
      "metadata": {
        "id": "IeU8BrmLQ3uG"
      },
      "execution_count": null,
      "outputs": []
    },
    {
      "cell_type": "code",
      "source": [
        "preprocessed_input"
      ],
      "metadata": {
        "colab": {
          "base_uri": "https://localhost:8080/",
          "height": 36
        },
        "id": "iuS3pQsXSSJK",
        "outputId": "59bc9231-a8cc-413e-e25f-600ecbf235b4"
      },
      "execution_count": null,
      "outputs": [
        {
          "output_type": "execute_result",
          "data": {
            "text/plain": [
              "'|بِاْ|لِنْ|نِسْ|بَ|تِ|لِ|لَسْ|سُيْ|يَ|اِحْ|مِمْ|مِنْ|طَ|قَ|تِشْ|شَرْ|قِلْ|ءَوْ|سَطْ.'"
            ],
            "application/vnd.google.colaboratory.intrinsic+json": {
              "type": "string"
            }
          },
          "metadata": {},
          "execution_count": 9
        }
      ]
    },
    {
      "cell_type": "code",
      "source": [
        "# Define the input text\n",
        "\n",
        "input_ids = tokenizer.encode(preprocessed_input, return_tensors=\"pt\",)\n",
        "output_ids = model.generate(\n",
        "    input_ids,\n",
        "    max_length=100,\n",
        "    early_stopping=True,\n",
        "    pad_token_id=tokenizer.pad_token_id,\n",
        "    bos_token_id=tokenizer.bos_token_id,\n",
        "    eos_token_id=tokenizer.eos_token_id,\n",
        ")\n",
        "\n",
        "# Decode the output\n",
        "output_text = tokenizer.decode(output_ids[0][1:], skip_special_tokens=True)\n"
      ],
      "metadata": {
        "id": "nJwkZMIhQtkO"
      },
      "execution_count": null,
      "outputs": []
    },
    {
      "cell_type": "code",
      "source": [
        "output_text.split(\".\")[0]"
      ],
      "metadata": {
        "colab": {
          "base_uri": "https://localhost:8080/",
          "height": 36
        },
        "id": "TF5xAdlbQpL8",
        "outputId": "e8b43c19-8222-4d14-a3b2-012884c8c3d7"
      },
      "execution_count": null,
      "outputs": [
        {
          "output_type": "execute_result",
          "data": {
            "text/plain": [
              "'بِالنِسْبَةِ لِلسُنْيَاح مِن مِنْطَقَةِ الشَرْق الأَوْسَط'"
            ],
            "application/vnd.google.colaboratory.intrinsic+json": {
              "type": "string"
            }
          },
          "metadata": {},
          "execution_count": 11
        }
      ]
    }
  ]
}